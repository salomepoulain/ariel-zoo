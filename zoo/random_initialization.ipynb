{
 "cells": [
  {
   "cell_type": "code",
   "execution_count": null,
   "id": "15e99434",
   "metadata": {},
   "outputs": [],
   "source": [
    "# from ariel_experiments.utils import generate_random_population_parallel, generate_random_individual\n",
    "\n",
    "\n",
    "# from ariel_experiments.characterize.individual import "
   ]
  }
 ],
 "metadata": {
  "language_info": {
   "name": "python"
  }
 },
 "nbformat": 4,
 "nbformat_minor": 5
}
