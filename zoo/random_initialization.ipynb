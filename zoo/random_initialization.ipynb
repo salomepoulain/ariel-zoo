{
 "cells": [
  {
   "cell_type": "code",
   "execution_count": null,
   "id": "15e99434",
   "metadata": {},
   "outputs": [],
   "source": [
    "from ariel_experiments.utils.initialize import (\n",
    "    generate_random_population_parallel,\n",
    ")\n",
    "\n",
    "from ariel_experiments.characterize.individual import (\n",
    "    analyze_json_hash,\n",
    "    analyze_mass,\n",
    "    analyze_module_counts,\n",
    "    analyze_json_hash_no_id,\n",
    ")\n",
    "\n",
    "from ariel_experiments.characterize.population import (\n",
    "    # AnalyzedPopulation,\n",
    "    get_full_analyzed_population,\n",
    "    derive_numeric_summary,\n",
    "    derive_uniques,\n",
    "    derive_min_first_idx,\n",
    "    derive_max_first_idx,\n",
    ")\n",
    "\n",
    "from ariel_experiments.gui_vis.visualize_data import (\n",
    "    create_boxplot_from_raw,\n",
    "    create_histogram_from_raw,\n",
    ")\n",
    "\n",
    "from ariel_experiments.gui_vis.gui import (\n",
    "    IndividualVisualizer\n",
    ")\n",
    "\n",
    "from ariel_experiments.gui_vis.view_mujoco import view\n",
    "\n",
    "from ariel_experiments.gui_vis.gui_simple import (\n",
    "    SimpleNavigator\n",
    ")\n"
   ]
  },
  {
   "cell_type": "markdown",
   "id": "8d9ad54c",
   "metadata": {},
   "source": [
    "Initialize population"
   ]
  },
  {
   "cell_type": "code",
   "execution_count": null,
   "id": "2663e944",
   "metadata": {},
   "outputs": [],
   "source": [
    "population_size = 100_000\n",
    "population = generate_random_population_parallel(population_size)"
   ]
  },
  {
   "cell_type": "markdown",
   "id": "c9c34aa7",
   "metadata": {},
   "source": [
    "Choose global analyzers (these will be applied to all individuals)"
   ]
  },
  {
   "cell_type": "code",
   "execution_count": null,
   "id": "c1848cf3",
   "metadata": {},
   "outputs": [],
   "source": [
    "individual_analyzers = [\n",
    "    analyze_module_counts,\n",
    "    analyze_mass,\n",
    "    analyze_json_hash,\n",
    "    analyze_json_hash_no_id,\n",
    "]\n",
    "\n",
    "derivation_analyzers = [\n",
    "    derive_numeric_summary,\n",
    "    derive_uniques,\n",
    "    derive_min_first_idx,\n",
    "    derive_max_first_idx,\n",
    "]\n",
    "\n",
    "analyzed_population = get_full_analyzed_population(\n",
    "    population, individual_analyzers, derivation_analyzers\n",
    ")"
   ]
  },
  {
   "cell_type": "code",
   "execution_count": null,
   "id": "48d204af",
   "metadata": {},
   "outputs": [],
   "source": [
    "analyzed_population.show_tree()"
   ]
  },
  {
   "cell_type": "markdown",
   "id": "02a6ddbc",
   "metadata": {},
   "source": [
    "Plot data of choice"
   ]
  },
  {
   "cell_type": "code",
   "execution_count": null,
   "id": "ec762ad1",
   "metadata": {},
   "outputs": [],
   "source": [
    "create_boxplot_from_raw(analyzed_population.raw)\n",
    "\n",
    "create_histogram_from_raw(\n",
    "    analyzed_population.raw, keys=[\"brick\", \"hinge\", \"none\"]\n",
    ")\n",
    "create_histogram_from_raw(analyzed_population.raw, keys=[\"not-none\"])\n",
    "create_histogram_from_raw(analyzed_population.raw, keys=[\"mass\"])\n",
    "create_histogram_from_raw(analyzed_population.raw, keys=[\"edges\"])"
   ]
  },
  {
   "cell_type": "markdown",
   "id": "8252a962",
   "metadata": {},
   "source": [
    "Use df to get insight into the same derived property across properties"
   ]
  },
  {
   "cell_type": "code",
   "execution_count": null,
   "id": "663dbe5e",
   "metadata": {},
   "outputs": [],
   "source": [
    "analyzed_population.df_from_derived(\"numeric_stats\")"
   ]
  },
  {
   "cell_type": "code",
   "execution_count": null,
   "id": "d884d7a8",
   "metadata": {},
   "outputs": [],
   "source": [
    "analyzed_population.df_from_derived(\n",
    "    \"uniques\",\n",
    "    keys=[\"edges\", \"not-none\"],\n",
    "    sort_columns=True,\n",
    "    save_file=\"counts.csv\",\n",
    ")"
   ]
  },
  {
   "cell_type": "markdown",
   "id": "bdf656d6",
   "metadata": {},
   "source": [
    "Use simple navigator to scan easily through values"
   ]
  },
  {
   "cell_type": "code",
   "execution_count": null,
   "id": "47020755",
   "metadata": {},
   "outputs": [],
   "source": [
    "simple_navigator = SimpleNavigator(analyzed_population.to_dict())"
   ]
  },
  {
   "cell_type": "markdown",
   "id": "cc8e8f94",
   "metadata": {},
   "source": [
    "Use IndidvidualVisualizer to visualize the graphs"
   ]
  },
  {
   "cell_type": "code",
   "execution_count": null,
   "id": "9951f8d5",
   "metadata": {},
   "outputs": [],
   "source": [
    "individual_visualizer = IndividualVisualizer(index_dict=analyzed_population.derived, population=population)"
   ]
  }
 ],
 "metadata": {
  "kernelspec": {
   "display_name": "Python 3",
   "language": "python",
   "name": "python3"
  },
  "language_info": {
   "codemirror_mode": {
    "name": "ipython",
    "version": 3
   },
   "file_extension": ".py",
   "mimetype": "text/x-python",
   "name": "python",
   "nbconvert_exporter": "python",
   "pygments_lexer": "ipython3",
   "version": "3.10.6"
  }
 },
 "nbformat": 4,
 "nbformat_minor": 5
}
